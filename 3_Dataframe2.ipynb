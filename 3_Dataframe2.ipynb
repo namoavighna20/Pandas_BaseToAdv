{
 "cells": [
  {
   "cell_type": "code",
   "execution_count": 1,
   "id": "6eb3b023",
   "metadata": {},
   "outputs": [],
   "source": [
    "import numpy as np\n",
    "import pandas as pd"
   ]
  },
  {
   "cell_type": "code",
   "execution_count": 4,
   "id": "8bd80193",
   "metadata": {},
   "outputs": [
    {
     "name": "stdout",
     "output_type": "stream",
     "text": [
      "      Year Industry_aggregation_NZSIOC Industry_name_NZSIOC  \\\n",
      "0     2024                     Level 1       All industries   \n",
      "1     2024                     Level 1       All industries   \n",
      "2     2024                     Level 1       All industries   \n",
      "3     2024                     Level 1       All industries   \n",
      "4     2024                     Level 1       All industries   \n",
      "...    ...                         ...                  ...   \n",
      "2777  2024                     Level 3       Road Transport   \n",
      "2778  2024                     Level 3       Road Transport   \n",
      "2779  2024                     Level 3       Road Transport   \n",
      "2780  2024                     Level 3       Road Transport   \n",
      "2781  2024                     Level 3       Road Transport   \n",
      "\n",
      "                   Units                                    Variable_name  \\\n",
      "0     Dollars (millions)                                     Total income   \n",
      "1     Dollars (millions)  Sales, government funding, grants and subsidies   \n",
      "2     Dollars (millions)                Interest, dividends and donations   \n",
      "3     Dollars (millions)                             Non-operating income   \n",
      "4     Dollars (millions)                                Total expenditure   \n",
      "...                  ...                                              ...   \n",
      "2777  Dollars (millions)                                     Other assets   \n",
      "2778  Dollars (millions)                     Total equity and liabilities   \n",
      "2779  Dollars (millions)              Shareholders funds or owners equity   \n",
      "2780  Dollars (millions)                              Current liabilities   \n",
      "2781  Dollars (millions)                                Other liabilities   \n",
      "\n",
      "          Variable_category  \n",
      "0     Financial performance  \n",
      "1     Financial performance  \n",
      "2     Financial performance  \n",
      "3     Financial performance  \n",
      "4     Financial performance  \n",
      "...                     ...  \n",
      "2777     Financial position  \n",
      "2778     Financial position  \n",
      "2779     Financial position  \n",
      "2780     Financial position  \n",
      "2781     Financial position  \n",
      "\n",
      "[2782 rows x 6 columns]\n"
     ]
    }
   ],
   "source": [
    "my_df=pd.read_csv('annual-enterprise-survey-2024-financial-year-provisional.csv')\n",
    "print(my_df)"
   ]
  },
  {
   "cell_type": "code",
   "execution_count": 5,
   "id": "5f782a3d",
   "metadata": {},
   "outputs": [
    {
     "data": {
      "text/plain": [
       "Units\n",
       "Dollars (millions)    2171\n",
       "Percentage             451\n",
       "Dollars                160\n",
       "Name: count, dtype: int64"
      ]
     },
     "execution_count": 5,
     "metadata": {},
     "output_type": "execute_result"
    }
   ],
   "source": [
    "# Count Distinct values - Descending\n",
    "\n",
    "my_df['Units'].value_counts()"
   ]
  },
  {
   "cell_type": "code",
   "execution_count": 6,
   "id": "e6ba7f1c",
   "metadata": {},
   "outputs": [
    {
     "data": {
      "text/plain": [
       "Units\n",
       "Dollars                160\n",
       "Percentage             451\n",
       "Dollars (millions)    2171\n",
       "Name: count, dtype: int64"
      ]
     },
     "execution_count": 6,
     "metadata": {},
     "output_type": "execute_result"
    }
   ],
   "source": [
    "# Count Distinct values - Ascending\n",
    "\n",
    "my_df['Units'].value_counts(ascending=True)"
   ]
  },
  {
   "cell_type": "code",
   "execution_count": 11,
   "id": "d6ff6c0d",
   "metadata": {},
   "outputs": [
    {
     "name": "stdout",
     "output_type": "stream",
     "text": [
      "Industry_aggregation_NZSIOC\n",
      "Level 4    1429\n",
      "Level 3    1051\n",
      "Level 1     302\n",
      "Name: count, dtype: int64\n"
     ]
    }
   ],
   "source": [
    "# Level1 values- Without NaN\n",
    "print(my_df['Industry_aggregation_NZSIOC'].value_counts())"
   ]
  },
  {
   "cell_type": "code",
   "execution_count": 8,
   "id": "0b6622cc",
   "metadata": {},
   "outputs": [
    {
     "name": "stdout",
     "output_type": "stream",
     "text": [
      "Industry_aggregation_NZSIOC\n",
      "Level 4    1429\n",
      "Level 3    1051\n",
      "Level 1     302\n",
      "Name: count, dtype: int64\n"
     ]
    }
   ],
   "source": [
    "# Level1 values- With NaN\n",
    "print(my_df['Industry_aggregation_NZSIOC'].value_counts(dropna=False))"
   ]
  },
  {
   "cell_type": "code",
   "execution_count": 12,
   "id": "160bd3d9",
   "metadata": {},
   "outputs": [
    {
     "name": "stdout",
     "output_type": "stream",
     "text": [
      "Industry_aggregation_NZSIOC\n",
      "Level 4    0.513659\n",
      "Level 3    0.377786\n",
      "Level 1    0.108555\n",
      "Name: proportion, dtype: float64\n"
     ]
    }
   ],
   "source": [
    "# Get relative frequency- Percentage\n",
    "print(my_df['Industry_aggregation_NZSIOC'].value_counts(normalize=True))"
   ]
  },
  {
   "cell_type": "code",
   "execution_count": null,
   "id": "1213c736",
   "metadata": {},
   "outputs": [
    {
     "name": "stdout",
     "output_type": "stream",
     "text": [
      "302\n"
     ]
    }
   ],
   "source": [
    "# Get specific Item count (Total count of Level 1)\n",
    "print(my_df['Industry_aggregation_NZSIOC'].value_counts()['Level 1'])"
   ]
  },
  {
   "cell_type": "code",
   "execution_count": 18,
   "id": "edb2f724",
   "metadata": {},
   "outputs": [
    {
     "name": "stdout",
     "output_type": "stream",
     "text": [
      "Variable_name\n",
      "Additions to fixed assets                                67\n",
      "Closing stocks                                           81\n",
      "Current assets                                           81\n",
      "Current liabilities                                      81\n",
      "Current ratio                                            80\n",
      "Depreciation                                             81\n",
      "Disposals of fixed assets                                67\n",
      "Fixed tangible assets                                    81\n",
      "Government funding, grants and subsidies                 71\n",
      "Indirect taxes                                           81\n",
      "Interest and donations                                   81\n",
      "Interest, dividends and donations                        81\n",
      "Liabilities structure                                    80\n",
      "Margin on sales of goods for resale                      51\n",
      "Non-operating expenses                                   81\n",
      "Non-operating income                                     81\n",
      "Opening stocks                                           81\n",
      "Other Purchases and operating expenses                   51\n",
      "Other assets                                             81\n",
      "Other liabilities                                        81\n",
      "Purchases and other operating expenses                   30\n",
      "Purchases of goods bought for resale                     51\n",
      "Quick ratio                                              80\n",
      "Redundancy and severance                                 81\n",
      "Return on equity                                         80\n",
      "Return on total assets                                   80\n",
      "Salaries and wages paid                                  81\n",
      "Salaries and wages to self employed commission agents     1\n",
      "Sales of goods and services                              20\n",
      "Sales of goods not further processed                     51\n",
      "Sales of other goods and services                        51\n",
      "Sales, government funding, grants and subsidies          10\n",
      "Shareholders funds or owners equity                      81\n",
      "Surplus before income tax                                81\n",
      "Surplus per employee count                               80\n",
      "Total assets                                             81\n",
      "Total equity and liabilities                             81\n",
      "Total expenditure                                        81\n",
      "Total income                                             81\n",
      "Total income per employee count                          80\n",
      "dtype: int64\n"
     ]
    }
   ],
   "source": [
    "# Count Unique values- Size\n",
    "print(my_df.groupby('Variable_name').size())"
   ]
  },
  {
   "cell_type": "code",
   "execution_count": 19,
   "id": "453efe26",
   "metadata": {},
   "outputs": [
    {
     "name": "stdout",
     "output_type": "stream",
     "text": [
      "                                                    Year  \\\n",
      "Variable_name                                              \n",
      "Additions to fixed assets                             67   \n",
      "Closing stocks                                        81   \n",
      "Current assets                                        81   \n",
      "Current liabilities                                   81   \n",
      "Current ratio                                         80   \n",
      "Depreciation                                          81   \n",
      "Disposals of fixed assets                             67   \n",
      "Fixed tangible assets                                 81   \n",
      "Government funding, grants and subsidies              71   \n",
      "Indirect taxes                                        81   \n",
      "Interest and donations                                81   \n",
      "Interest, dividends and donations                     81   \n",
      "Liabilities structure                                 80   \n",
      "Margin on sales of goods for resale                   51   \n",
      "Non-operating expenses                                81   \n",
      "Non-operating income                                  81   \n",
      "Opening stocks                                        81   \n",
      "Other Purchases and operating expenses                51   \n",
      "Other assets                                          81   \n",
      "Other liabilities                                     81   \n",
      "Purchases and other operating expenses                30   \n",
      "Purchases of goods bought for resale                  51   \n",
      "Quick ratio                                           80   \n",
      "Redundancy and severance                              81   \n",
      "Return on equity                                      80   \n",
      "Return on total assets                                80   \n",
      "Salaries and wages paid                               81   \n",
      "Salaries and wages to self employed commission ...     1   \n",
      "Sales of goods and services                           20   \n",
      "Sales of goods not further processed                  51   \n",
      "Sales of other goods and services                     51   \n",
      "Sales, government funding, grants and subsidies       10   \n",
      "Shareholders funds or owners equity                   81   \n",
      "Surplus before income tax                             81   \n",
      "Surplus per employee count                            80   \n",
      "Total assets                                          81   \n",
      "Total equity and liabilities                          81   \n",
      "Total expenditure                                     81   \n",
      "Total income                                          81   \n",
      "Total income per employee count                       80   \n",
      "\n",
      "                                                    Industry_aggregation_NZSIOC  \\\n",
      "Variable_name                                                                     \n",
      "Additions to fixed assets                                                    67   \n",
      "Closing stocks                                                               81   \n",
      "Current assets                                                               81   \n",
      "Current liabilities                                                          81   \n",
      "Current ratio                                                                80   \n",
      "Depreciation                                                                 81   \n",
      "Disposals of fixed assets                                                    67   \n",
      "Fixed tangible assets                                                        81   \n",
      "Government funding, grants and subsidies                                     71   \n",
      "Indirect taxes                                                               81   \n",
      "Interest and donations                                                       81   \n",
      "Interest, dividends and donations                                            81   \n",
      "Liabilities structure                                                        80   \n",
      "Margin on sales of goods for resale                                          51   \n",
      "Non-operating expenses                                                       81   \n",
      "Non-operating income                                                         81   \n",
      "Opening stocks                                                               81   \n",
      "Other Purchases and operating expenses                                       51   \n",
      "Other assets                                                                 81   \n",
      "Other liabilities                                                            81   \n",
      "Purchases and other operating expenses                                       30   \n",
      "Purchases of goods bought for resale                                         51   \n",
      "Quick ratio                                                                  80   \n",
      "Redundancy and severance                                                     81   \n",
      "Return on equity                                                             80   \n",
      "Return on total assets                                                       80   \n",
      "Salaries and wages paid                                                      81   \n",
      "Salaries and wages to self employed commission ...                            1   \n",
      "Sales of goods and services                                                  20   \n",
      "Sales of goods not further processed                                         51   \n",
      "Sales of other goods and services                                            51   \n",
      "Sales, government funding, grants and subsidies                              10   \n",
      "Shareholders funds or owners equity                                          81   \n",
      "Surplus before income tax                                                    81   \n",
      "Surplus per employee count                                                   80   \n",
      "Total assets                                                                 81   \n",
      "Total equity and liabilities                                                 81   \n",
      "Total expenditure                                                            81   \n",
      "Total income                                                                 81   \n",
      "Total income per employee count                                              80   \n",
      "\n",
      "                                                    Industry_name_NZSIOC  \\\n",
      "Variable_name                                                              \n",
      "Additions to fixed assets                                             67   \n",
      "Closing stocks                                                        81   \n",
      "Current assets                                                        81   \n",
      "Current liabilities                                                   81   \n",
      "Current ratio                                                         80   \n",
      "Depreciation                                                          81   \n",
      "Disposals of fixed assets                                             67   \n",
      "Fixed tangible assets                                                 81   \n",
      "Government funding, grants and subsidies                              71   \n",
      "Indirect taxes                                                        81   \n",
      "Interest and donations                                                81   \n",
      "Interest, dividends and donations                                     81   \n",
      "Liabilities structure                                                 80   \n",
      "Margin on sales of goods for resale                                   51   \n",
      "Non-operating expenses                                                81   \n",
      "Non-operating income                                                  81   \n",
      "Opening stocks                                                        81   \n",
      "Other Purchases and operating expenses                                51   \n",
      "Other assets                                                          81   \n",
      "Other liabilities                                                     81   \n",
      "Purchases and other operating expenses                                30   \n",
      "Purchases of goods bought for resale                                  51   \n",
      "Quick ratio                                                           80   \n",
      "Redundancy and severance                                              81   \n",
      "Return on equity                                                      80   \n",
      "Return on total assets                                                80   \n",
      "Salaries and wages paid                                               81   \n",
      "Salaries and wages to self employed commission ...                     1   \n",
      "Sales of goods and services                                           20   \n",
      "Sales of goods not further processed                                  51   \n",
      "Sales of other goods and services                                     51   \n",
      "Sales, government funding, grants and subsidies                       10   \n",
      "Shareholders funds or owners equity                                   81   \n",
      "Surplus before income tax                                             81   \n",
      "Surplus per employee count                                            80   \n",
      "Total assets                                                          81   \n",
      "Total equity and liabilities                                          81   \n",
      "Total expenditure                                                     81   \n",
      "Total income                                                          81   \n",
      "Total income per employee count                                       80   \n",
      "\n",
      "                                                    Units  Variable_category  \n",
      "Variable_name                                                                 \n",
      "Additions to fixed assets                              67                 67  \n",
      "Closing stocks                                         81                 81  \n",
      "Current assets                                         81                 81  \n",
      "Current liabilities                                    81                 81  \n",
      "Current ratio                                          80                 80  \n",
      "Depreciation                                           81                 81  \n",
      "Disposals of fixed assets                              67                 67  \n",
      "Fixed tangible assets                                  81                 81  \n",
      "Government funding, grants and subsidies               71                 71  \n",
      "Indirect taxes                                         81                 81  \n",
      "Interest and donations                                 81                 81  \n",
      "Interest, dividends and donations                      81                 81  \n",
      "Liabilities structure                                  80                 80  \n",
      "Margin on sales of goods for resale                    51                 51  \n",
      "Non-operating expenses                                 81                 81  \n",
      "Non-operating income                                   81                 81  \n",
      "Opening stocks                                         81                 81  \n",
      "Other Purchases and operating expenses                 51                 51  \n",
      "Other assets                                           81                 81  \n",
      "Other liabilities                                      81                 81  \n",
      "Purchases and other operating expenses                 30                 30  \n",
      "Purchases of goods bought for resale                   51                 51  \n",
      "Quick ratio                                            80                 80  \n",
      "Redundancy and severance                               81                 81  \n",
      "Return on equity                                       80                 80  \n",
      "Return on total assets                                 80                 80  \n",
      "Salaries and wages paid                                81                 81  \n",
      "Salaries and wages to self employed commission ...      1                  1  \n",
      "Sales of goods and services                            20                 20  \n",
      "Sales of goods not further processed                   51                 51  \n",
      "Sales of other goods and services                      51                 51  \n",
      "Sales, government funding, grants and subsidies        10                 10  \n",
      "Shareholders funds or owners equity                    81                 81  \n",
      "Surplus before income tax                              81                 81  \n",
      "Surplus per employee count                             80                 80  \n",
      "Total assets                                           81                 81  \n",
      "Total equity and liabilities                           81                 81  \n",
      "Total expenditure                                      81                 81  \n",
      "Total income                                           81                 81  \n",
      "Total income per employee count                        80                 80  \n"
     ]
    }
   ],
   "source": [
    "# Count Unique Values - Count\n",
    "print(my_df.groupby('Variable_name').count())\n"
   ]
  }
 ],
 "metadata": {
  "kernelspec": {
   "display_name": ".venv",
   "language": "python",
   "name": "python3"
  },
  "language_info": {
   "codemirror_mode": {
    "name": "ipython",
    "version": 3
   },
   "file_extension": ".py",
   "mimetype": "text/x-python",
   "name": "python",
   "nbconvert_exporter": "python",
   "pygments_lexer": "ipython3",
   "version": "3.10.4"
  }
 },
 "nbformat": 4,
 "nbformat_minor": 5
}
