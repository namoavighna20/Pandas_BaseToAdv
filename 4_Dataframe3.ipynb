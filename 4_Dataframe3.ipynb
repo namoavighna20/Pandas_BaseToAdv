{
 "cells": [
  {
   "cell_type": "code",
   "execution_count": 6,
   "id": "b5de370a",
   "metadata": {},
   "outputs": [
    {
     "name": "stdout",
     "output_type": "stream",
     "text": [
      "   SIC Code Unique ID                                        Description\n",
      "0      1110       T01  Growing of cereals (except rice), leguminous c...\n",
      "1      1120       T02                                    Growing of rice\n",
      "2      1130       T03  Growing of vegetables and melons, roots and tu...\n",
      "3      1140       T04                              Growing of sugar cane\n"
     ]
    }
   ],
   "source": [
    "import pandas as pd\n",
    "import numpy as np\n",
    "\n",
    "#Importng a file\n",
    "my_df=pd.read_csv(\"industry_sic - 2.csv\")\n",
    "print(my_df)\n"
   ]
  },
  {
   "cell_type": "code",
   "execution_count": null,
   "id": "b32c663d",
   "metadata": {},
   "outputs": [
    {
     "name": "stdout",
     "output_type": "stream",
     "text": [
      "   SIC Code Unique ID                                        Description  \\\n",
      "0      1110       T01  Growing of cereals (except rice), leguminous c...   \n",
      "1      1120       T02                                    Growing of rice   \n",
      "2      1130       T03  Growing of vegetables and melons, roots and tu...   \n",
      "3      1140       T04                              Growing of sugar cane   \n",
      "\n",
      "  WarehouseNumber  \n",
      "0              AA  \n",
      "1              AB  \n",
      "2              AC  \n",
      "3              AD  \n"
     ]
    }
   ],
   "source": [
    "\n",
    "# Add column from list\n",
    "#Warehouse_Number=['AA','AB','AC','AD']\n",
    "#my_df[\"WarehouseNumber\"]=Warehouse_Number\n",
    "#print(my_df)\n",
    "\n",
    "# Note: Above method is only preferrable, when we are having small datasets.\n"
   ]
  },
  {
   "cell_type": "code",
   "execution_count": 12,
   "id": "e69caa0d",
   "metadata": {},
   "outputs": [
    {
     "name": "stdout",
     "output_type": "stream",
     "text": [
      "   SIC Code Unique ID                                        Description  \\\n",
      "0      1110       T01  Growing of cereals (except rice), leguminous c...   \n",
      "1      1120       T02                                    Growing of rice   \n",
      "2      1130       T03  Growing of vegetables and melons, roots and tu...   \n",
      "3      1140       T04                              Growing of sugar cane   \n",
      "\n",
      "  WarehouseNumber  ISOpen  \n",
      "0              AA    True  \n",
      "1              AB    True  \n",
      "2              AC    True  \n",
      "3              AD    True  \n"
     ]
    }
   ],
   "source": [
    "# Add default values\n",
    "my_df[\"ISOpen\"]=[True]*len(my_df)\n",
    "print(my_df)"
   ]
  },
  {
   "cell_type": "code",
   "execution_count": 13,
   "id": "1913f49e",
   "metadata": {},
   "outputs": [
    {
     "name": "stdout",
     "output_type": "stream",
     "text": [
      "   SIC Code Unique ID                                        Description  \\\n",
      "0      1110       T01  Growing of cereals (except rice), leguminous c...   \n",
      "1      1120       T02                                    Growing of rice   \n",
      "2      1130       T03  Growing of vegetables and melons, roots and tu...   \n",
      "3      1140       T04                              Growing of sugar cane   \n",
      "\n",
      "  WarehouseNumber  ISOpen  Show_Warehouse  \n",
      "0              AA    True             NaN  \n",
      "1              AB    True             NaN  \n",
      "2              AC    True             NaN  \n",
      "3              AD    True             NaN  \n"
     ]
    }
   ],
   "source": [
    "# Add NaN value\n",
    "my_df[\"Show_Warehouse\"]=[np.nan]*len(my_df)\n",
    "print(my_df)"
   ]
  },
  {
   "cell_type": "code",
   "execution_count": 14,
   "id": "561c26e6",
   "metadata": {},
   "outputs": [
    {
     "name": "stdout",
     "output_type": "stream",
     "text": [
      "   SIC Code        Location Unique ID  \\\n",
      "0      1110  Madhya Pradesh       T01   \n",
      "1      1120  Madhya Pradesh       T02   \n",
      "2      1130  Madhya Pradesh       T03   \n",
      "3      1140  Madhya Pradesh       T04   \n",
      "\n",
      "                                         Description WarehouseNumber  ISOpen  \\\n",
      "0  Growing of cereals (except rice), leguminous c...              AA    True   \n",
      "1                                    Growing of rice              AB    True   \n",
      "2  Growing of vegetables and melons, roots and tu...              AC    True   \n",
      "3                              Growing of sugar cane              AD    True   \n",
      "\n",
      "   Show_Warehouse  \n",
      "0             NaN  \n",
      "1             NaN  \n",
      "2             NaN  \n",
      "3             NaN  \n"
     ]
    }
   ],
   "source": [
    "# Add column with .insert() - Allows Position\n",
    "my_df.insert(1,\"Location\",[\"Madhya Pradesh\"]*len(my_df))\n",
    "print(my_df)"
   ]
  },
  {
   "cell_type": "code",
   "execution_count": 15,
   "id": "e0e50a1c",
   "metadata": {},
   "outputs": [
    {
     "name": "stdout",
     "output_type": "stream",
     "text": [
      "   SIC Code        Location Unique ID  \\\n",
      "0      1110  Madhya Pradesh       T01   \n",
      "1      1120  Madhya Pradesh       T02   \n",
      "2      1130  Madhya Pradesh       T03   \n",
      "3      1140  Madhya Pradesh       T04   \n",
      "\n",
      "                                         Description WarehouseNumber  ISOpen  \\\n",
      "0  Growing of cereals (except rice), leguminous c...              AA    True   \n",
      "1                                    Growing of rice              AB    True   \n",
      "2  Growing of vegetables and melons, roots and tu...              AC    True   \n",
      "3                              Growing of sugar cane              AD    True   \n",
      "\n",
      "   Show_Warehouse   City  \n",
      "0             NaN  sagar  \n",
      "1             NaN  sagar  \n",
      "2             NaN  sagar  \n",
      "3             NaN  sagar  \n"
     ]
    }
   ],
   "source": [
    "# Add column with .assign() - creates new df\n",
    "my_df2=my_df.assign(City=[\"sagar\"]*len(my_df))\n",
    "print(my_df2)"
   ]
  }
 ],
 "metadata": {
  "kernelspec": {
   "display_name": ".venv",
   "language": "python",
   "name": "python3"
  },
  "language_info": {
   "codemirror_mode": {
    "name": "ipython",
    "version": 3
   },
   "file_extension": ".py",
   "mimetype": "text/x-python",
   "name": "python",
   "nbconvert_exporter": "python",
   "pygments_lexer": "ipython3",
   "version": "3.10.4"
  }
 },
 "nbformat": 4,
 "nbformat_minor": 5
}
