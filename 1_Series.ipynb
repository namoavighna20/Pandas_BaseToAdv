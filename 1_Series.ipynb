{
 "cells": [
  {
   "cell_type": "markdown",
   "id": "99af92a9",
   "metadata": {},
   "source": [
    "Series\n"
   ]
  },
  {
   "cell_type": "code",
   "execution_count": 1,
   "id": "5fb9257f",
   "metadata": {},
   "outputs": [],
   "source": [
    "import numpy as np\n",
    "import pandas as pd"
   ]
  },
  {
   "cell_type": "code",
   "execution_count": 6,
   "id": "aa7f38ea",
   "metadata": {},
   "outputs": [
    {
     "name": "stdout",
     "output_type": "stream",
     "text": [
      "0    5\n",
      "1    7\n",
      "2    1\n",
      "3    7\n",
      "4    6\n",
      "dtype: int64\n"
     ]
    }
   ],
   "source": [
    "my_series=[5,7,1,7,6]\n",
    "my_var=pd.Series(my_series)\n",
    "print(my_var)"
   ]
  },
  {
   "cell_type": "code",
   "execution_count": 5,
   "id": "b4fe73c4",
   "metadata": {},
   "outputs": [
    {
     "name": "stdout",
     "output_type": "stream",
     "text": [
      "7\n"
     ]
    }
   ],
   "source": [
    "#Print specific value\n",
    "print(my_var[1])"
   ]
  },
  {
   "cell_type": "code",
   "execution_count": 11,
   "id": "f4cb9895",
   "metadata": {},
   "outputs": [
    {
     "name": "stdout",
     "output_type": "stream",
     "text": [
      "A    5\n",
      "B    7\n",
      "C    1\n",
      "D    7\n",
      "E    6\n",
      "dtype: int64\n",
      "7\n"
     ]
    }
   ],
   "source": [
    "# Labels using the index arguements\n",
    "my_index=['A','B','C','D','E']\n",
    "my_var2=pd.Series(my_series,my_index)\n",
    "print(my_var2)\n",
    "\n",
    "print(my_var2['B'])"
   ]
  },
  {
   "cell_type": "code",
   "execution_count": 14,
   "id": "81521a66",
   "metadata": {},
   "outputs": [
    {
     "name": "stdout",
     "output_type": "stream",
     "text": [
      "Tesla       12\n",
      "Mercedes    42\n",
      "BMW          3\n",
      "dtype: int64\n",
      "12\n"
     ]
    }
   ],
   "source": [
    "# Key Value Dictionary\n",
    "\n",
    "cars={'Tesla':12,'Mercedes':42,'BMW':3}\n",
    "my_var3=pd.Series(cars)\n",
    "print(my_var3)\n",
    "\n",
    "print(my_var3['Tesla'])"
   ]
  },
  {
   "cell_type": "code",
   "execution_count": null,
   "id": "e016f40b",
   "metadata": {},
   "outputs": [],
   "source": []
  }
 ],
 "metadata": {
  "kernelspec": {
   "display_name": ".venv",
   "language": "python",
   "name": "python3"
  },
  "language_info": {
   "codemirror_mode": {
    "name": "ipython",
    "version": 3
   },
   "file_extension": ".py",
   "mimetype": "text/x-python",
   "name": "python",
   "nbconvert_exporter": "python",
   "pygments_lexer": "ipython3",
   "version": "3.10.4"
  }
 },
 "nbformat": 4,
 "nbformat_minor": 5
}
