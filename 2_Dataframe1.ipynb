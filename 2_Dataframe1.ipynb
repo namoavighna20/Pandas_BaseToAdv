{
 "cells": [
  {
   "cell_type": "markdown",
   "id": "d3c0fd53",
   "metadata": {},
   "source": [
    "'''Dataframes"
   ]
  },
  {
   "cell_type": "code",
   "execution_count": 1,
   "id": "527ff35d",
   "metadata": {},
   "outputs": [],
   "source": [
    "import numpy as np\n",
    "import pandas as pd\n",
    "from numpy.random import randn"
   ]
  },
  {
   "cell_type": "code",
   "execution_count": 2,
   "id": "b69a83f6",
   "metadata": {},
   "outputs": [
    {
     "name": "stdout",
     "output_type": "stream",
     "text": [
      "     Monday   Tuesday  Wednesday\n",
      "A  0.300911 -0.957660   0.871146\n",
      "B -0.392538 -0.534399  -0.867022\n",
      "C  0.653339  1.269126   0.766307\n",
      "D  0.833301  0.237713   1.947042\n"
     ]
    }
   ],
   "source": [
    "my_data=randn(4,3) # 4 => Rows, 3 => Columns\n",
    "my_rows=['A','B','C','D']\n",
    "my_cols=['Monday','Tuesday','Wednesday']\n",
    "\n",
    "#Creating a dataframe\n",
    "my_df=pd.DataFrame(my_data,my_rows,my_cols)\n",
    "print(my_df)"
   ]
  },
  {
   "cell_type": "code",
   "execution_count": 3,
   "id": "cd419507",
   "metadata": {},
   "outputs": [
    {
     "name": "stdout",
     "output_type": "stream",
     "text": [
      "     SIC Code                                        Description\n",
      "0        1110  Growing of cereals (except rice), leguminous c...\n",
      "1        1120                                    Growing of rice\n",
      "2        1130  Growing of vegetables and melons, roots and tu...\n",
      "3        1140                              Growing of sugar cane\n",
      "4        1150                                 Growing of tobacco\n",
      "..        ...                                                ...\n",
      "726     98000                      Residents property management\n",
      "727     98100  Undifferentiated goods-producing activities of...\n",
      "728     98200  Undifferentiated service-producing activities ...\n",
      "729     99000  Activities of extraterritorial organizations a...\n",
      "730     99999                                    Dormant Company\n",
      "\n",
      "[731 rows x 2 columns]\n"
     ]
    }
   ],
   "source": [
    "# import csv file\n",
    "my_df2= pd.read_csv('industry_sic.csv')\n",
    "print(my_df2)"
   ]
  },
  {
   "cell_type": "code",
   "execution_count": 5,
   "id": "c66bc280",
   "metadata": {},
   "outputs": [
    {
     "name": "stdout",
     "output_type": "stream",
     "text": [
      "SIC Code                                                    1110\n",
      "Description    Growing of cereals (except rice), leguminous c...\n",
      "Name: 0, dtype: object\n"
     ]
    }
   ],
   "source": [
    "# Pull out rows from CSV file\n",
    "print(my_df2.loc[0])\n",
    "\n"
   ]
  },
  {
   "cell_type": "code",
   "execution_count": 7,
   "id": "38d3a305",
   "metadata": {},
   "outputs": [
    {
     "name": "stdout",
     "output_type": "stream",
     "text": [
      "   SIC Code                                        Description\n",
      "0      1110  Growing of cereals (except rice), leguminous c...\n",
      "5      1160                             Growing of fibre crops\n",
      "2      1130  Growing of vegetables and melons, roots and tu...\n"
     ]
    }
   ],
   "source": [
    "# Pulling out multiple rows\n",
    "\n",
    "print(my_df2.loc[[0,5,2]])"
   ]
  },
  {
   "cell_type": "code",
   "execution_count": 9,
   "id": "abd29d0d",
   "metadata": {},
   "outputs": [
    {
     "name": "stdout",
     "output_type": "stream",
     "text": [
      "   SIC Code                                        Description\n",
      "0      1110  Growing of cereals (except rice), leguminous c...\n",
      "1      1120                                    Growing of rice\n",
      "2      1130  Growing of vegetables and melons, roots and tu...\n",
      "3      1140                              Growing of sugar cane\n",
      "4      1150                                 Growing of tobacco\n"
     ]
    }
   ],
   "source": [
    "# Grab first 5 rows\n",
    "print(my_df2.head())"
   ]
  },
  {
   "cell_type": "code",
   "execution_count": 10,
   "id": "e1fe7f4e",
   "metadata": {},
   "outputs": [
    {
     "name": "stdout",
     "output_type": "stream",
     "text": [
      "     SIC Code                                        Description\n",
      "726     98000                      Residents property management\n",
      "727     98100  Undifferentiated goods-producing activities of...\n",
      "728     98200  Undifferentiated service-producing activities ...\n",
      "729     99000  Activities of extraterritorial organizations a...\n",
      "730     99999                                    Dormant Company\n"
     ]
    }
   ],
   "source": [
    "# Grab last 5 rows\n",
    "print(my_df2.tail())"
   ]
  },
  {
   "cell_type": "code",
   "execution_count": 11,
   "id": "49c1e8b9",
   "metadata": {},
   "outputs": [
    {
     "name": "stdout",
     "output_type": "stream",
     "text": [
      "   SIC Code                                        Description\n",
      "0      1110  Growing of cereals (except rice), leguminous c...\n",
      "1      1120                                    Growing of rice\n",
      "2      1130  Growing of vegetables and melons, roots and tu...\n",
      "3      1140                              Growing of sugar cane\n",
      "4      1150                                 Growing of tobacco\n",
      "5      1160                             Growing of fibre crops\n",
      "6      1190               Growing of other non-perennial crops\n"
     ]
    }
   ],
   "source": [
    "# Grab certain number of first rows\n",
    "print(my_df2.head(7))"
   ]
  },
  {
   "cell_type": "code",
   "execution_count": 13,
   "id": "cb2d5981",
   "metadata": {},
   "outputs": [
    {
     "name": "stdout",
     "output_type": "stream",
     "text": [
      "     SIC Code                                        Description\n",
      "724     96090                    Other service activities n.e.c.\n",
      "725     97000  Activities of households as employers of domes...\n",
      "726     98000                      Residents property management\n",
      "727     98100  Undifferentiated goods-producing activities of...\n",
      "728     98200  Undifferentiated service-producing activities ...\n",
      "729     99000  Activities of extraterritorial organizations a...\n",
      "730     99999                                    Dormant Company\n"
     ]
    }
   ],
   "source": [
    "# Grab certain number of last rows\n",
    "print(my_df2.tail(7))"
   ]
  },
  {
   "cell_type": "code",
   "execution_count": 15,
   "id": "6865740a",
   "metadata": {},
   "outputs": [
    {
     "name": "stdout",
     "output_type": "stream",
     "text": [
      "<class 'pandas.core.frame.DataFrame'>\n",
      "RangeIndex: 731 entries, 0 to 730\n",
      "Data columns (total 2 columns):\n",
      " #   Column       Non-Null Count  Dtype \n",
      "---  ------       --------------  ----- \n",
      " 0   SIC Code     731 non-null    int64 \n",
      " 1   Description  731 non-null    object\n",
      "dtypes: int64(1), object(1)\n",
      "memory usage: 11.5+ KB\n",
      "None\n"
     ]
    }
   ],
   "source": [
    "# Grab information about dataframe\n",
    "print(my_df2.info())"
   ]
  },
  {
   "cell_type": "code",
   "execution_count": 17,
   "id": "58e23396",
   "metadata": {},
   "outputs": [
    {
     "name": "stdout",
     "output_type": "stream",
     "text": [
      "(731, 2)\n"
     ]
    }
   ],
   "source": [
    "# Get shape of rows and columns\n",
    "print(my_df2.shape)"
   ]
  },
  {
   "cell_type": "code",
   "execution_count": 22,
   "id": "41234ece",
   "metadata": {},
   "outputs": [
    {
     "name": "stdout",
     "output_type": "stream",
     "text": [
      "2\n"
     ]
    }
   ],
   "source": [
    "# Get number of dimensions\n",
    "print(my_df2.ndim)"
   ]
  },
  {
   "cell_type": "code",
   "execution_count": null,
   "id": "20826d3f",
   "metadata": {},
   "outputs": [
    {
     "name": "stdout",
     "output_type": "stream",
     "text": [
      "Index(['SIC Code', 'Description'], dtype='object')\n"
     ]
    }
   ],
   "source": [
    "# TO Get the column names\n",
    "print(my_df2.columns)"
   ]
  },
  {
   "cell_type": "code",
   "execution_count": 24,
   "id": "5705d12d",
   "metadata": {},
   "outputs": [
    {
     "name": "stdout",
     "output_type": "stream",
     "text": [
      "SIC Code        int64\n",
      "Description    object\n",
      "dtype: object\n"
     ]
    }
   ],
   "source": [
    "# To get the column datatypes\n",
    "print(my_df2.dtypes)"
   ]
  },
  {
   "cell_type": "code",
   "execution_count": 25,
   "id": "b6ffcda2",
   "metadata": {},
   "outputs": [
    {
     "name": "stdout",
     "output_type": "stream",
     "text": [
      "           SIC Code\n",
      "count    731.000000\n",
      "mean   43925.389877\n",
      "std    26478.315319\n",
      "min     1110.000000\n",
      "25%    23465.000000\n",
      "50%    46120.000000\n",
      "75%    64301.500000\n",
      "max    99999.000000\n"
     ]
    }
   ],
   "source": [
    "# Get some statistics about data\n",
    "\n",
    "print(my_df2.describe())"
   ]
  },
  {
   "cell_type": "code",
   "execution_count": 27,
   "id": "afe82511",
   "metadata": {},
   "outputs": [
    {
     "data": {
      "text/plain": [
       "count                 731\n",
       "unique                731\n",
       "top       Dormant Company\n",
       "freq                    1\n",
       "Name: Description, dtype: object"
      ]
     },
     "execution_count": 27,
     "metadata": {},
     "output_type": "execute_result"
    }
   ],
   "source": [
    "# Describe a specific column\n",
    "my_df2['Description'].describe()"
   ]
  },
  {
   "cell_type": "code",
   "execution_count": 28,
   "id": "4b102cc9",
   "metadata": {},
   "outputs": [
    {
     "data": {
      "text/plain": [
       "count      731.000000\n",
       "mean     43925.389877\n",
       "std      26478.315319\n",
       "min       1110.000000\n",
       "25%      23465.000000\n",
       "50%      46120.000000\n",
       "75%      64301.500000\n",
       "max      99999.000000\n",
       "Name: SIC Code, dtype: float64"
      ]
     },
     "execution_count": 28,
     "metadata": {},
     "output_type": "execute_result"
    }
   ],
   "source": [
    "# Describe a specific column\n",
    "my_df2['SIC Code'].describe()"
   ]
  },
  {
   "cell_type": "code",
   "execution_count": 29,
   "id": "cef80101",
   "metadata": {},
   "outputs": [
    {
     "name": "stdout",
     "output_type": "stream",
     "text": [
      "0       1110\n",
      "1       1120\n",
      "2       1130\n",
      "3       1140\n",
      "4       1150\n",
      "       ...  \n",
      "726    98000\n",
      "727    98100\n",
      "728    98200\n",
      "729    99000\n",
      "730    99999\n",
      "Name: SIC Code, Length: 731, dtype: int64\n"
     ]
    }
   ],
   "source": [
    "# Select specific column using brackets\n",
    "print(my_df2['SIC Code'])"
   ]
  },
  {
   "cell_type": "code",
   "execution_count": 32,
   "id": "a2d9a2cb",
   "metadata": {},
   "outputs": [
    {
     "data": {
      "text/plain": [
       "0       1110\n",
       "1       1120\n",
       "2       1130\n",
       "3       1140\n",
       "4       1150\n",
       "       ...  \n",
       "726    98000\n",
       "727    98100\n",
       "728    98200\n",
       "729    99000\n",
       "730    99999\n",
       "Name: SIC Code, Length: 731, dtype: int64"
      ]
     },
     "execution_count": 32,
     "metadata": {},
     "output_type": "execute_result"
    }
   ],
   "source": [
    "# Select specific column using Location\n",
    "my_df2.iloc[:,0]"
   ]
  }
 ],
 "metadata": {
  "kernelspec": {
   "display_name": ".venv",
   "language": "python",
   "name": "python3"
  },
  "language_info": {
   "codemirror_mode": {
    "name": "ipython",
    "version": 3
   },
   "file_extension": ".py",
   "mimetype": "text/x-python",
   "name": "python",
   "nbconvert_exporter": "python",
   "pygments_lexer": "ipython3",
   "version": "3.10.4"
  }
 },
 "nbformat": 4,
 "nbformat_minor": 5
}
